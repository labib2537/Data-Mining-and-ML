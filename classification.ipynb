{
  "nbformat": 4,
  "nbformat_minor": 0,
  "metadata": {
    "colab": {
      "name": "classification.ipynb",
      "provenance": [],
      "authorship_tag": "ABX9TyPAG+JG/dNwtQqCVsk7/W2u",
      "include_colab_link": true
    },
    "kernelspec": {
      "name": "python3",
      "display_name": "Python 3"
    },
    "language_info": {
      "name": "python"
    }
  },
  "cells": [
    {
      "cell_type": "markdown",
      "metadata": {
        "id": "view-in-github",
        "colab_type": "text"
      },
      "source": [
        "<a href=\"https://colab.research.google.com/github/labib2537/Data-Mining-and-ML/blob/main/classification.ipynb\" target=\"_parent\"><img src=\"https://colab.research.google.com/assets/colab-badge.svg\" alt=\"Open In Colab\"/></a>"
      ]
    },
    {
      "cell_type": "code",
      "metadata": {
        "colab": {
          "base_uri": "https://localhost:8080/"
        },
        "id": "C0XT5ayHpb_z",
        "outputId": "40194d1d-7ec0-4814-c574-24ce9ad5a9f7"
      },
      "source": [
        "from google.colab import drive\n",
        "drive.mount('/content/gdrive')"
      ],
      "execution_count": 460,
      "outputs": [
        {
          "output_type": "stream",
          "text": [
            "Drive already mounted at /content/gdrive; to attempt to forcibly remount, call drive.mount(\"/content/gdrive\", force_remount=True).\n"
          ],
          "name": "stdout"
        }
      ]
    },
    {
      "cell_type": "code",
      "metadata": {
        "id": "SinbYTSUtnrI"
      },
      "source": [
        "import numpy as np\n",
        "import pandas as pd\n",
        "import seaborn as sns\n",
        "import matplotlib.pyplot as plt\n"
      ],
      "execution_count": 461,
      "outputs": []
    },
    {
      "cell_type": "code",
      "metadata": {
        "colab": {
          "base_uri": "https://localhost:8080/",
          "height": 203
        },
        "id": "vSLqhBpfx0-6",
        "outputId": "b7c5090c-eddf-4586-856e-8cc3058419ee"
      },
      "source": [
        "train = pd.read_csv('gdrive/My Drive/OOP-2 Project/Project Code and CSV file/bank.csv')\n",
        "train.head()"
      ],
      "execution_count": 462,
      "outputs": [
        {
          "output_type": "execute_result",
          "data": {
            "text/html": [
              "<div>\n",
              "<style scoped>\n",
              "    .dataframe tbody tr th:only-of-type {\n",
              "        vertical-align: middle;\n",
              "    }\n",
              "\n",
              "    .dataframe tbody tr th {\n",
              "        vertical-align: top;\n",
              "    }\n",
              "\n",
              "    .dataframe thead th {\n",
              "        text-align: right;\n",
              "    }\n",
              "</style>\n",
              "<table border=\"1\" class=\"dataframe\">\n",
              "  <thead>\n",
              "    <tr style=\"text-align: right;\">\n",
              "      <th></th>\n",
              "      <th>age</th>\n",
              "      <th>job</th>\n",
              "      <th>marital</th>\n",
              "      <th>education</th>\n",
              "      <th>default</th>\n",
              "      <th>balance</th>\n",
              "      <th>housing</th>\n",
              "      <th>loan</th>\n",
              "      <th>contact</th>\n",
              "      <th>day</th>\n",
              "      <th>month</th>\n",
              "      <th>duration</th>\n",
              "      <th>campaign</th>\n",
              "      <th>pdays</th>\n",
              "      <th>previous</th>\n",
              "      <th>poutcome</th>\n",
              "      <th>deposit</th>\n",
              "    </tr>\n",
              "  </thead>\n",
              "  <tbody>\n",
              "    <tr>\n",
              "      <th>0</th>\n",
              "      <td>59</td>\n",
              "      <td>admin.</td>\n",
              "      <td>married</td>\n",
              "      <td>secondary</td>\n",
              "      <td>no</td>\n",
              "      <td>2343</td>\n",
              "      <td>yes</td>\n",
              "      <td>no</td>\n",
              "      <td>unknown</td>\n",
              "      <td>5</td>\n",
              "      <td>may</td>\n",
              "      <td>1042</td>\n",
              "      <td>1</td>\n",
              "      <td>-1</td>\n",
              "      <td>0</td>\n",
              "      <td>unknown</td>\n",
              "      <td>yes</td>\n",
              "    </tr>\n",
              "    <tr>\n",
              "      <th>1</th>\n",
              "      <td>56</td>\n",
              "      <td>admin.</td>\n",
              "      <td>married</td>\n",
              "      <td>secondary</td>\n",
              "      <td>no</td>\n",
              "      <td>45</td>\n",
              "      <td>no</td>\n",
              "      <td>no</td>\n",
              "      <td>unknown</td>\n",
              "      <td>5</td>\n",
              "      <td>may</td>\n",
              "      <td>1467</td>\n",
              "      <td>1</td>\n",
              "      <td>-1</td>\n",
              "      <td>0</td>\n",
              "      <td>unknown</td>\n",
              "      <td>yes</td>\n",
              "    </tr>\n",
              "    <tr>\n",
              "      <th>2</th>\n",
              "      <td>41</td>\n",
              "      <td>technician</td>\n",
              "      <td>married</td>\n",
              "      <td>secondary</td>\n",
              "      <td>no</td>\n",
              "      <td>1270</td>\n",
              "      <td>yes</td>\n",
              "      <td>no</td>\n",
              "      <td>unknown</td>\n",
              "      <td>5</td>\n",
              "      <td>may</td>\n",
              "      <td>1389</td>\n",
              "      <td>1</td>\n",
              "      <td>-1</td>\n",
              "      <td>0</td>\n",
              "      <td>unknown</td>\n",
              "      <td>yes</td>\n",
              "    </tr>\n",
              "    <tr>\n",
              "      <th>3</th>\n",
              "      <td>55</td>\n",
              "      <td>services</td>\n",
              "      <td>married</td>\n",
              "      <td>secondary</td>\n",
              "      <td>no</td>\n",
              "      <td>2476</td>\n",
              "      <td>yes</td>\n",
              "      <td>no</td>\n",
              "      <td>unknown</td>\n",
              "      <td>5</td>\n",
              "      <td>may</td>\n",
              "      <td>579</td>\n",
              "      <td>1</td>\n",
              "      <td>-1</td>\n",
              "      <td>0</td>\n",
              "      <td>unknown</td>\n",
              "      <td>yes</td>\n",
              "    </tr>\n",
              "    <tr>\n",
              "      <th>4</th>\n",
              "      <td>54</td>\n",
              "      <td>admin.</td>\n",
              "      <td>married</td>\n",
              "      <td>tertiary</td>\n",
              "      <td>no</td>\n",
              "      <td>184</td>\n",
              "      <td>no</td>\n",
              "      <td>no</td>\n",
              "      <td>unknown</td>\n",
              "      <td>5</td>\n",
              "      <td>may</td>\n",
              "      <td>673</td>\n",
              "      <td>2</td>\n",
              "      <td>-1</td>\n",
              "      <td>0</td>\n",
              "      <td>unknown</td>\n",
              "      <td>yes</td>\n",
              "    </tr>\n",
              "  </tbody>\n",
              "</table>\n",
              "</div>"
            ],
            "text/plain": [
              "   age         job  marital  education  ... pdays  previous poutcome deposit\n",
              "0   59      admin.  married  secondary  ...    -1         0  unknown     yes\n",
              "1   56      admin.  married  secondary  ...    -1         0  unknown     yes\n",
              "2   41  technician  married  secondary  ...    -1         0  unknown     yes\n",
              "3   55    services  married  secondary  ...    -1         0  unknown     yes\n",
              "4   54      admin.  married   tertiary  ...    -1         0  unknown     yes\n",
              "\n",
              "[5 rows x 17 columns]"
            ]
          },
          "metadata": {
            "tags": []
          },
          "execution_count": 462
        }
      ]
    },
    {
      "cell_type": "code",
      "metadata": {
        "colab": {
          "base_uri": "https://localhost:8080/"
        },
        "id": "yf7yvslsxzuL",
        "outputId": "fe1399b6-1be8-44ca-f48c-9af458b6c3ab"
      },
      "source": [
        "train.info()"
      ],
      "execution_count": 463,
      "outputs": [
        {
          "output_type": "stream",
          "text": [
            "<class 'pandas.core.frame.DataFrame'>\n",
            "RangeIndex: 11162 entries, 0 to 11161\n",
            "Data columns (total 17 columns):\n",
            " #   Column     Non-Null Count  Dtype \n",
            "---  ------     --------------  ----- \n",
            " 0   age        11162 non-null  int64 \n",
            " 1   job        11162 non-null  object\n",
            " 2   marital    11162 non-null  object\n",
            " 3   education  11162 non-null  object\n",
            " 4   default    11162 non-null  object\n",
            " 5   balance    11162 non-null  int64 \n",
            " 6   housing    11162 non-null  object\n",
            " 7   loan       11162 non-null  object\n",
            " 8   contact    11162 non-null  object\n",
            " 9   day        11162 non-null  int64 \n",
            " 10  month      11162 non-null  object\n",
            " 11  duration   11162 non-null  int64 \n",
            " 12  campaign   11162 non-null  int64 \n",
            " 13  pdays      11162 non-null  int64 \n",
            " 14  previous   11162 non-null  int64 \n",
            " 15  poutcome   11162 non-null  object\n",
            " 16  deposit    11162 non-null  object\n",
            "dtypes: int64(7), object(10)\n",
            "memory usage: 1.4+ MB\n"
          ],
          "name": "stdout"
        }
      ]
    },
    {
      "cell_type": "markdown",
      "metadata": {
        "id": "m9IIhJ8V4KLj"
      },
      "source": [
        "**Data preprocessing**"
      ]
    },
    {
      "cell_type": "code",
      "metadata": {
        "id": "X775vBh917m3"
      },
      "source": [
        "from sklearn.preprocessing import LabelEncoder\n",
        "from sklearn.preprocessing import StandardScaler"
      ],
      "execution_count": 464,
      "outputs": []
    },
    {
      "cell_type": "code",
      "metadata": {
        "id": "NwKGn1seu1mK"
      },
      "source": [
        "y = train['deposit']\n",
        "X = train.drop('deposit', axis=1)"
      ],
      "execution_count": 465,
      "outputs": []
    },
    {
      "cell_type": "code",
      "metadata": {
        "id": "rzr7RXPAyh-o"
      },
      "source": [
        "def get_categorical_features(df):\n",
        "    return [feature for feature in df.columns if df[feature].dtype == 'object']"
      ],
      "execution_count": 466,
      "outputs": []
    },
    {
      "cell_type": "code",
      "metadata": {
        "colab": {
          "base_uri": "https://localhost:8080/"
        },
        "id": "4yKXESOcymHm",
        "outputId": "5e86423a-c112-49db-b9bf-3e16d2ccfdf7"
      },
      "source": [
        "get_categorical_features(X)"
      ],
      "execution_count": 467,
      "outputs": [
        {
          "output_type": "execute_result",
          "data": {
            "text/plain": [
              "['job',\n",
              " 'marital',\n",
              " 'education',\n",
              " 'default',\n",
              " 'housing',\n",
              " 'loan',\n",
              " 'contact',\n",
              " 'month',\n",
              " 'poutcome']"
            ]
          },
          "metadata": {
            "tags": []
          },
          "execution_count": 467
        }
      ]
    },
    {
      "cell_type": "code",
      "metadata": {
        "id": "E_sJJ1ZAyqH-"
      },
      "source": [
        "def get_uniques(df, columns):\n",
        "    return {column: list(df[column].unique()) for column in columns}"
      ],
      "execution_count": 468,
      "outputs": []
    },
    {
      "cell_type": "code",
      "metadata": {
        "colab": {
          "base_uri": "https://localhost:8080/"
        },
        "id": "pOeAomK3yu91",
        "outputId": "76406228-3d6d-46a1-d939-c0b2edcc1020"
      },
      "source": [
        "get_uniques(X, get_categorical_features(X))"
      ],
      "execution_count": 469,
      "outputs": [
        {
          "output_type": "execute_result",
          "data": {
            "text/plain": [
              "{'contact': ['unknown', 'cellular', 'telephone'],\n",
              " 'default': ['no', 'yes'],\n",
              " 'education': ['secondary', 'tertiary', 'primary', 'unknown'],\n",
              " 'housing': ['yes', 'no'],\n",
              " 'job': ['admin.',\n",
              "  'technician',\n",
              "  'services',\n",
              "  'management',\n",
              "  'retired',\n",
              "  'blue-collar',\n",
              "  'unemployed',\n",
              "  'entrepreneur',\n",
              "  'housemaid',\n",
              "  'unknown',\n",
              "  'self-employed',\n",
              "  'student'],\n",
              " 'loan': ['no', 'yes'],\n",
              " 'marital': ['married', 'single', 'divorced'],\n",
              " 'month': ['may',\n",
              "  'jun',\n",
              "  'jul',\n",
              "  'aug',\n",
              "  'oct',\n",
              "  'nov',\n",
              "  'dec',\n",
              "  'jan',\n",
              "  'feb',\n",
              "  'mar',\n",
              "  'apr',\n",
              "  'sep'],\n",
              " 'poutcome': ['unknown', 'other', 'failure', 'success']}"
            ]
          },
          "metadata": {
            "tags": []
          },
          "execution_count": 469
        }
      ]
    },
    {
      "cell_type": "code",
      "metadata": {
        "id": "95p0BoEKy74F"
      },
      "source": [
        "X = X.replace('unknown', np.NaN)"
      ],
      "execution_count": 470,
      "outputs": []
    },
    {
      "cell_type": "code",
      "metadata": {
        "colab": {
          "base_uri": "https://localhost:8080/"
        },
        "id": "jUlmyWuRzAp8",
        "outputId": "b6759b7c-0184-4d73-f823-c2f3fa196b59"
      },
      "source": [
        "X.isna().sum()"
      ],
      "execution_count": 471,
      "outputs": [
        {
          "output_type": "execute_result",
          "data": {
            "text/plain": [
              "age             0\n",
              "job            70\n",
              "marital         0\n",
              "education     497\n",
              "default         0\n",
              "balance         0\n",
              "housing         0\n",
              "loan            0\n",
              "contact      2346\n",
              "day             0\n",
              "month           0\n",
              "duration        0\n",
              "campaign        0\n",
              "pdays           0\n",
              "previous        0\n",
              "poutcome     8326\n",
              "dtype: int64"
            ]
          },
          "metadata": {
            "tags": []
          },
          "execution_count": 471
        }
      ]
    },
    {
      "cell_type": "code",
      "metadata": {
        "id": "yLLai6zizE2s"
      },
      "source": [
        "X.drop('poutcome', axis=1, inplace=True)"
      ],
      "execution_count": 472,
      "outputs": []
    },
    {
      "cell_type": "code",
      "metadata": {
        "colab": {
          "base_uri": "https://localhost:8080/"
        },
        "id": "fr9kt3AOzK77",
        "outputId": "49dc13b5-bfa5-474f-8f68-d84429edcbc9"
      },
      "source": [
        "get_uniques(X, get_categorical_features(X))"
      ],
      "execution_count": 473,
      "outputs": [
        {
          "output_type": "execute_result",
          "data": {
            "text/plain": [
              "{'contact': [nan, 'cellular', 'telephone'],\n",
              " 'default': ['no', 'yes'],\n",
              " 'education': ['secondary', 'tertiary', 'primary', nan],\n",
              " 'housing': ['yes', 'no'],\n",
              " 'job': ['admin.',\n",
              "  'technician',\n",
              "  'services',\n",
              "  'management',\n",
              "  'retired',\n",
              "  'blue-collar',\n",
              "  'unemployed',\n",
              "  'entrepreneur',\n",
              "  'housemaid',\n",
              "  nan,\n",
              "  'self-employed',\n",
              "  'student'],\n",
              " 'loan': ['no', 'yes'],\n",
              " 'marital': ['married', 'single', 'divorced'],\n",
              " 'month': ['may',\n",
              "  'jun',\n",
              "  'jul',\n",
              "  'aug',\n",
              "  'oct',\n",
              "  'nov',\n",
              "  'dec',\n",
              "  'jan',\n",
              "  'feb',\n",
              "  'mar',\n",
              "  'apr',\n",
              "  'sep']}"
            ]
          },
          "metadata": {
            "tags": []
          },
          "execution_count": 473
        }
      ]
    },
    {
      "cell_type": "code",
      "metadata": {
        "id": "7TbkcXxxzM9r"
      },
      "source": [
        "binary_features = ['default', 'housing', 'loan']\n",
        "\n",
        "ordinal_features = ['education', 'month']\n",
        "\n",
        "nominal_features = ['job', 'marital', 'contact']"
      ],
      "execution_count": 474,
      "outputs": []
    },
    {
      "cell_type": "code",
      "metadata": {
        "id": "IvSD7WDkzRtz"
      },
      "source": [
        "def binary_encode(df, columns, positive_label):\n",
        "    df = df.copy()\n",
        "    for column in columns:\n",
        "        df[column] = df[column].apply(lambda x: 1 if x == positive_label else 0)\n",
        "    return df"
      ],
      "execution_count": 475,
      "outputs": []
    },
    {
      "cell_type": "code",
      "metadata": {
        "id": "apS-CZzozW-r"
      },
      "source": [
        "X = binary_encode(X, binary_features, 'yes')"
      ],
      "execution_count": 476,
      "outputs": []
    },
    {
      "cell_type": "code",
      "metadata": {
        "id": "vzpzizDyzaiK"
      },
      "source": [
        "def ordinal_encode(df, columns, orderings):\n",
        "    df = df.copy()\n",
        "    for column, ordering in zip(columns, orderings):\n",
        "        df[column] = df[column].apply(lambda x: ordering.index(x) if str(x) != 'nan' else x)\n",
        "    return df"
      ],
      "execution_count": 477,
      "outputs": []
    },
    {
      "cell_type": "code",
      "metadata": {
        "id": "D7iwvZQfzgS6"
      },
      "source": [
        "education_ordering = ['primary', 'secondary', 'tertiary']\n",
        "\n",
        "month_ordering = ['jan', 'feb', 'mar', 'apr', 'may', 'jun', 'jul', 'aug', 'sep', 'oct', 'nov', 'dec']\n",
        "\n",
        "orderings = [education_ordering, month_ordering]\n",
        "\n",
        "\n",
        "X = ordinal_encode(X, ordinal_features, orderings)"
      ],
      "execution_count": 478,
      "outputs": []
    },
    {
      "cell_type": "code",
      "metadata": {
        "id": "P0YiZqljzku6"
      },
      "source": [
        "def onehot_encode(df, columns):\n",
        "    df = df.copy()\n",
        "    for column in columns:\n",
        "        dummies = pd.get_dummies(df[column])\n",
        "        df = pd.concat([df, dummies], axis=1)\n",
        "        df.drop(column, axis=1, inplace=True)\n",
        "    return df"
      ],
      "execution_count": 479,
      "outputs": []
    },
    {
      "cell_type": "code",
      "metadata": {
        "colab": {
          "base_uri": "https://localhost:8080/",
          "height": 240
        },
        "id": "Ot6_KrFQzmGx",
        "outputId": "d7af03e7-fb50-4ef8-8e71-20c16f9c0521"
      },
      "source": [
        "X = onehot_encode(X, nominal_features)\n",
        "X.head()"
      ],
      "execution_count": 480,
      "outputs": [
        {
          "output_type": "execute_result",
          "data": {
            "text/html": [
              "<div>\n",
              "<style scoped>\n",
              "    .dataframe tbody tr th:only-of-type {\n",
              "        vertical-align: middle;\n",
              "    }\n",
              "\n",
              "    .dataframe tbody tr th {\n",
              "        vertical-align: top;\n",
              "    }\n",
              "\n",
              "    .dataframe thead th {\n",
              "        text-align: right;\n",
              "    }\n",
              "</style>\n",
              "<table border=\"1\" class=\"dataframe\">\n",
              "  <thead>\n",
              "    <tr style=\"text-align: right;\">\n",
              "      <th></th>\n",
              "      <th>age</th>\n",
              "      <th>education</th>\n",
              "      <th>default</th>\n",
              "      <th>balance</th>\n",
              "      <th>housing</th>\n",
              "      <th>loan</th>\n",
              "      <th>day</th>\n",
              "      <th>month</th>\n",
              "      <th>duration</th>\n",
              "      <th>campaign</th>\n",
              "      <th>pdays</th>\n",
              "      <th>previous</th>\n",
              "      <th>admin.</th>\n",
              "      <th>blue-collar</th>\n",
              "      <th>entrepreneur</th>\n",
              "      <th>housemaid</th>\n",
              "      <th>management</th>\n",
              "      <th>retired</th>\n",
              "      <th>self-employed</th>\n",
              "      <th>services</th>\n",
              "      <th>student</th>\n",
              "      <th>technician</th>\n",
              "      <th>unemployed</th>\n",
              "      <th>divorced</th>\n",
              "      <th>married</th>\n",
              "      <th>single</th>\n",
              "      <th>cellular</th>\n",
              "      <th>telephone</th>\n",
              "    </tr>\n",
              "  </thead>\n",
              "  <tbody>\n",
              "    <tr>\n",
              "      <th>0</th>\n",
              "      <td>59</td>\n",
              "      <td>1.0</td>\n",
              "      <td>0</td>\n",
              "      <td>2343</td>\n",
              "      <td>1</td>\n",
              "      <td>0</td>\n",
              "      <td>5</td>\n",
              "      <td>4</td>\n",
              "      <td>1042</td>\n",
              "      <td>1</td>\n",
              "      <td>-1</td>\n",
              "      <td>0</td>\n",
              "      <td>1</td>\n",
              "      <td>0</td>\n",
              "      <td>0</td>\n",
              "      <td>0</td>\n",
              "      <td>0</td>\n",
              "      <td>0</td>\n",
              "      <td>0</td>\n",
              "      <td>0</td>\n",
              "      <td>0</td>\n",
              "      <td>0</td>\n",
              "      <td>0</td>\n",
              "      <td>0</td>\n",
              "      <td>1</td>\n",
              "      <td>0</td>\n",
              "      <td>0</td>\n",
              "      <td>0</td>\n",
              "    </tr>\n",
              "    <tr>\n",
              "      <th>1</th>\n",
              "      <td>56</td>\n",
              "      <td>1.0</td>\n",
              "      <td>0</td>\n",
              "      <td>45</td>\n",
              "      <td>0</td>\n",
              "      <td>0</td>\n",
              "      <td>5</td>\n",
              "      <td>4</td>\n",
              "      <td>1467</td>\n",
              "      <td>1</td>\n",
              "      <td>-1</td>\n",
              "      <td>0</td>\n",
              "      <td>1</td>\n",
              "      <td>0</td>\n",
              "      <td>0</td>\n",
              "      <td>0</td>\n",
              "      <td>0</td>\n",
              "      <td>0</td>\n",
              "      <td>0</td>\n",
              "      <td>0</td>\n",
              "      <td>0</td>\n",
              "      <td>0</td>\n",
              "      <td>0</td>\n",
              "      <td>0</td>\n",
              "      <td>1</td>\n",
              "      <td>0</td>\n",
              "      <td>0</td>\n",
              "      <td>0</td>\n",
              "    </tr>\n",
              "    <tr>\n",
              "      <th>2</th>\n",
              "      <td>41</td>\n",
              "      <td>1.0</td>\n",
              "      <td>0</td>\n",
              "      <td>1270</td>\n",
              "      <td>1</td>\n",
              "      <td>0</td>\n",
              "      <td>5</td>\n",
              "      <td>4</td>\n",
              "      <td>1389</td>\n",
              "      <td>1</td>\n",
              "      <td>-1</td>\n",
              "      <td>0</td>\n",
              "      <td>0</td>\n",
              "      <td>0</td>\n",
              "      <td>0</td>\n",
              "      <td>0</td>\n",
              "      <td>0</td>\n",
              "      <td>0</td>\n",
              "      <td>0</td>\n",
              "      <td>0</td>\n",
              "      <td>0</td>\n",
              "      <td>1</td>\n",
              "      <td>0</td>\n",
              "      <td>0</td>\n",
              "      <td>1</td>\n",
              "      <td>0</td>\n",
              "      <td>0</td>\n",
              "      <td>0</td>\n",
              "    </tr>\n",
              "    <tr>\n",
              "      <th>3</th>\n",
              "      <td>55</td>\n",
              "      <td>1.0</td>\n",
              "      <td>0</td>\n",
              "      <td>2476</td>\n",
              "      <td>1</td>\n",
              "      <td>0</td>\n",
              "      <td>5</td>\n",
              "      <td>4</td>\n",
              "      <td>579</td>\n",
              "      <td>1</td>\n",
              "      <td>-1</td>\n",
              "      <td>0</td>\n",
              "      <td>0</td>\n",
              "      <td>0</td>\n",
              "      <td>0</td>\n",
              "      <td>0</td>\n",
              "      <td>0</td>\n",
              "      <td>0</td>\n",
              "      <td>0</td>\n",
              "      <td>1</td>\n",
              "      <td>0</td>\n",
              "      <td>0</td>\n",
              "      <td>0</td>\n",
              "      <td>0</td>\n",
              "      <td>1</td>\n",
              "      <td>0</td>\n",
              "      <td>0</td>\n",
              "      <td>0</td>\n",
              "    </tr>\n",
              "    <tr>\n",
              "      <th>4</th>\n",
              "      <td>54</td>\n",
              "      <td>2.0</td>\n",
              "      <td>0</td>\n",
              "      <td>184</td>\n",
              "      <td>0</td>\n",
              "      <td>0</td>\n",
              "      <td>5</td>\n",
              "      <td>4</td>\n",
              "      <td>673</td>\n",
              "      <td>2</td>\n",
              "      <td>-1</td>\n",
              "      <td>0</td>\n",
              "      <td>1</td>\n",
              "      <td>0</td>\n",
              "      <td>0</td>\n",
              "      <td>0</td>\n",
              "      <td>0</td>\n",
              "      <td>0</td>\n",
              "      <td>0</td>\n",
              "      <td>0</td>\n",
              "      <td>0</td>\n",
              "      <td>0</td>\n",
              "      <td>0</td>\n",
              "      <td>0</td>\n",
              "      <td>1</td>\n",
              "      <td>0</td>\n",
              "      <td>0</td>\n",
              "      <td>0</td>\n",
              "    </tr>\n",
              "  </tbody>\n",
              "</table>\n",
              "</div>"
            ],
            "text/plain": [
              "   age  education  default  balance  ...  married  single  cellular  telephone\n",
              "0   59        1.0        0     2343  ...        1       0         0          0\n",
              "1   56        1.0        0       45  ...        1       0         0          0\n",
              "2   41        1.0        0     1270  ...        1       0         0          0\n",
              "3   55        1.0        0     2476  ...        1       0         0          0\n",
              "4   54        2.0        0      184  ...        1       0         0          0\n",
              "\n",
              "[5 rows x 28 columns]"
            ]
          },
          "metadata": {
            "tags": []
          },
          "execution_count": 480
        }
      ]
    },
    {
      "cell_type": "code",
      "metadata": {
        "colab": {
          "base_uri": "https://localhost:8080/"
        },
        "id": "88Ev7nUs0isF",
        "outputId": "599af9dc-82ca-49a9-dbd7-1a1b8379b452"
      },
      "source": [
        "X.isna().sum()"
      ],
      "execution_count": 481,
      "outputs": [
        {
          "output_type": "execute_result",
          "data": {
            "text/plain": [
              "age                0\n",
              "education        497\n",
              "default            0\n",
              "balance            0\n",
              "housing            0\n",
              "loan               0\n",
              "day                0\n",
              "month              0\n",
              "duration           0\n",
              "campaign           0\n",
              "pdays              0\n",
              "previous           0\n",
              "admin.             0\n",
              "blue-collar        0\n",
              "entrepreneur       0\n",
              "housemaid          0\n",
              "management         0\n",
              "retired            0\n",
              "self-employed      0\n",
              "services           0\n",
              "student            0\n",
              "technician         0\n",
              "unemployed         0\n",
              "divorced           0\n",
              "married            0\n",
              "single             0\n",
              "cellular           0\n",
              "telephone          0\n",
              "dtype: int64"
            ]
          },
          "metadata": {
            "tags": []
          },
          "execution_count": 481
        }
      ]
    },
    {
      "cell_type": "code",
      "metadata": {
        "id": "QYZiGw8-0ssE"
      },
      "source": [
        "X['education'] = X['education'].fillna(X['education'].median())"
      ],
      "execution_count": 482,
      "outputs": []
    },
    {
      "cell_type": "code",
      "metadata": {
        "id": "Td-Ftk_Y0yhD"
      },
      "source": [
        "scaler = StandardScaler()\n",
        "\n",
        "X = pd.DataFrame(scaler.fit_transform(X), columns=X.columns)"
      ],
      "execution_count": 483,
      "outputs": []
    },
    {
      "cell_type": "code",
      "metadata": {
        "id": "3UcLUY1u03cr"
      },
      "source": [
        "label_encoder = LabelEncoder()\n",
        "\n",
        "y = label_encoder.fit_transform(y)"
      ],
      "execution_count": 484,
      "outputs": []
    },
    {
      "cell_type": "code",
      "metadata": {
        "colab": {
          "base_uri": "https://localhost:8080/",
          "height": 394
        },
        "id": "phdp3Uq704x0",
        "outputId": "29f77881-d1f6-4840-8d27-3c9d042952dc"
      },
      "source": [
        "X.head(10)"
      ],
      "execution_count": 485,
      "outputs": [
        {
          "output_type": "execute_result",
          "data": {
            "text/html": [
              "<div>\n",
              "<style scoped>\n",
              "    .dataframe tbody tr th:only-of-type {\n",
              "        vertical-align: middle;\n",
              "    }\n",
              "\n",
              "    .dataframe tbody tr th {\n",
              "        vertical-align: top;\n",
              "    }\n",
              "\n",
              "    .dataframe thead th {\n",
              "        text-align: right;\n",
              "    }\n",
              "</style>\n",
              "<table border=\"1\" class=\"dataframe\">\n",
              "  <thead>\n",
              "    <tr style=\"text-align: right;\">\n",
              "      <th></th>\n",
              "      <th>age</th>\n",
              "      <th>education</th>\n",
              "      <th>default</th>\n",
              "      <th>balance</th>\n",
              "      <th>housing</th>\n",
              "      <th>loan</th>\n",
              "      <th>day</th>\n",
              "      <th>month</th>\n",
              "      <th>duration</th>\n",
              "      <th>campaign</th>\n",
              "      <th>pdays</th>\n",
              "      <th>previous</th>\n",
              "      <th>admin.</th>\n",
              "      <th>blue-collar</th>\n",
              "      <th>entrepreneur</th>\n",
              "      <th>housemaid</th>\n",
              "      <th>management</th>\n",
              "      <th>retired</th>\n",
              "      <th>self-employed</th>\n",
              "      <th>services</th>\n",
              "      <th>student</th>\n",
              "      <th>technician</th>\n",
              "      <th>unemployed</th>\n",
              "      <th>divorced</th>\n",
              "      <th>married</th>\n",
              "      <th>single</th>\n",
              "      <th>cellular</th>\n",
              "      <th>telephone</th>\n",
              "    </tr>\n",
              "  </thead>\n",
              "  <tbody>\n",
              "    <tr>\n",
              "      <th>0</th>\n",
              "      <td>1.491505</td>\n",
              "      <td>-0.300320</td>\n",
              "      <td>-0.123617</td>\n",
              "      <td>0.252525</td>\n",
              "      <td>1.055280</td>\n",
              "      <td>-0.387923</td>\n",
              "      <td>-1.265746</td>\n",
              "      <td>-0.462874</td>\n",
              "      <td>1.930226</td>\n",
              "      <td>-0.554168</td>\n",
              "      <td>-0.481184</td>\n",
              "      <td>-0.36326</td>\n",
              "      <td>2.714280</td>\n",
              "      <td>-0.459229</td>\n",
              "      <td>-0.173997</td>\n",
              "      <td>-0.158636</td>\n",
              "      <td>-0.546362</td>\n",
              "      <td>-0.273721</td>\n",
              "      <td>-0.194036</td>\n",
              "      <td>-0.300242</td>\n",
              "      <td>-0.182557</td>\n",
              "      <td>-0.441818</td>\n",
              "      <td>-0.18177</td>\n",
              "      <td>-0.361962</td>\n",
              "      <td>0.870355</td>\n",
              "      <td>-0.678403</td>\n",
              "      <td>-1.605479</td>\n",
              "      <td>-0.272963</td>\n",
              "    </tr>\n",
              "    <tr>\n",
              "      <th>1</th>\n",
              "      <td>1.239676</td>\n",
              "      <td>-0.300320</td>\n",
              "      <td>-0.123617</td>\n",
              "      <td>-0.459974</td>\n",
              "      <td>-0.947616</td>\n",
              "      <td>-0.387923</td>\n",
              "      <td>-1.265746</td>\n",
              "      <td>-0.462874</td>\n",
              "      <td>3.154612</td>\n",
              "      <td>-0.554168</td>\n",
              "      <td>-0.481184</td>\n",
              "      <td>-0.36326</td>\n",
              "      <td>2.714280</td>\n",
              "      <td>-0.459229</td>\n",
              "      <td>-0.173997</td>\n",
              "      <td>-0.158636</td>\n",
              "      <td>-0.546362</td>\n",
              "      <td>-0.273721</td>\n",
              "      <td>-0.194036</td>\n",
              "      <td>-0.300242</td>\n",
              "      <td>-0.182557</td>\n",
              "      <td>-0.441818</td>\n",
              "      <td>-0.18177</td>\n",
              "      <td>-0.361962</td>\n",
              "      <td>0.870355</td>\n",
              "      <td>-0.678403</td>\n",
              "      <td>-1.605479</td>\n",
              "      <td>-0.272963</td>\n",
              "    </tr>\n",
              "    <tr>\n",
              "      <th>2</th>\n",
              "      <td>-0.019470</td>\n",
              "      <td>-0.300320</td>\n",
              "      <td>-0.123617</td>\n",
              "      <td>-0.080160</td>\n",
              "      <td>1.055280</td>\n",
              "      <td>-0.387923</td>\n",
              "      <td>-1.265746</td>\n",
              "      <td>-0.462874</td>\n",
              "      <td>2.929901</td>\n",
              "      <td>-0.554168</td>\n",
              "      <td>-0.481184</td>\n",
              "      <td>-0.36326</td>\n",
              "      <td>-0.368422</td>\n",
              "      <td>-0.459229</td>\n",
              "      <td>-0.173997</td>\n",
              "      <td>-0.158636</td>\n",
              "      <td>-0.546362</td>\n",
              "      <td>-0.273721</td>\n",
              "      <td>-0.194036</td>\n",
              "      <td>-0.300242</td>\n",
              "      <td>-0.182557</td>\n",
              "      <td>2.263377</td>\n",
              "      <td>-0.18177</td>\n",
              "      <td>-0.361962</td>\n",
              "      <td>0.870355</td>\n",
              "      <td>-0.678403</td>\n",
              "      <td>-1.605479</td>\n",
              "      <td>-0.272963</td>\n",
              "    </tr>\n",
              "    <tr>\n",
              "      <th>3</th>\n",
              "      <td>1.155733</td>\n",
              "      <td>-0.300320</td>\n",
              "      <td>-0.123617</td>\n",
              "      <td>0.293762</td>\n",
              "      <td>1.055280</td>\n",
              "      <td>-0.387923</td>\n",
              "      <td>-1.265746</td>\n",
              "      <td>-0.462874</td>\n",
              "      <td>0.596366</td>\n",
              "      <td>-0.554168</td>\n",
              "      <td>-0.481184</td>\n",
              "      <td>-0.36326</td>\n",
              "      <td>-0.368422</td>\n",
              "      <td>-0.459229</td>\n",
              "      <td>-0.173997</td>\n",
              "      <td>-0.158636</td>\n",
              "      <td>-0.546362</td>\n",
              "      <td>-0.273721</td>\n",
              "      <td>-0.194036</td>\n",
              "      <td>3.330642</td>\n",
              "      <td>-0.182557</td>\n",
              "      <td>-0.441818</td>\n",
              "      <td>-0.18177</td>\n",
              "      <td>-0.361962</td>\n",
              "      <td>0.870355</td>\n",
              "      <td>-0.678403</td>\n",
              "      <td>-1.605479</td>\n",
              "      <td>-0.272963</td>\n",
              "    </tr>\n",
              "    <tr>\n",
              "      <th>4</th>\n",
              "      <td>1.071790</td>\n",
              "      <td>1.231052</td>\n",
              "      <td>-0.123617</td>\n",
              "      <td>-0.416876</td>\n",
              "      <td>-0.947616</td>\n",
              "      <td>-0.387923</td>\n",
              "      <td>-1.265746</td>\n",
              "      <td>-0.462874</td>\n",
              "      <td>0.867171</td>\n",
              "      <td>-0.186785</td>\n",
              "      <td>-0.481184</td>\n",
              "      <td>-0.36326</td>\n",
              "      <td>2.714280</td>\n",
              "      <td>-0.459229</td>\n",
              "      <td>-0.173997</td>\n",
              "      <td>-0.158636</td>\n",
              "      <td>-0.546362</td>\n",
              "      <td>-0.273721</td>\n",
              "      <td>-0.194036</td>\n",
              "      <td>-0.300242</td>\n",
              "      <td>-0.182557</td>\n",
              "      <td>-0.441818</td>\n",
              "      <td>-0.18177</td>\n",
              "      <td>-0.361962</td>\n",
              "      <td>0.870355</td>\n",
              "      <td>-0.678403</td>\n",
              "      <td>-1.605479</td>\n",
              "      <td>-0.272963</td>\n",
              "    </tr>\n",
              "    <tr>\n",
              "      <th>5</th>\n",
              "      <td>0.064473</td>\n",
              "      <td>1.231052</td>\n",
              "      <td>-0.123617</td>\n",
              "      <td>-0.473926</td>\n",
              "      <td>1.055280</td>\n",
              "      <td>2.577830</td>\n",
              "      <td>-1.265746</td>\n",
              "      <td>-0.462874</td>\n",
              "      <td>0.547390</td>\n",
              "      <td>-0.186785</td>\n",
              "      <td>-0.481184</td>\n",
              "      <td>-0.36326</td>\n",
              "      <td>-0.368422</td>\n",
              "      <td>-0.459229</td>\n",
              "      <td>-0.173997</td>\n",
              "      <td>-0.158636</td>\n",
              "      <td>1.830290</td>\n",
              "      <td>-0.273721</td>\n",
              "      <td>-0.194036</td>\n",
              "      <td>-0.300242</td>\n",
              "      <td>-0.182557</td>\n",
              "      <td>-0.441818</td>\n",
              "      <td>-0.18177</td>\n",
              "      <td>-0.361962</td>\n",
              "      <td>-1.148956</td>\n",
              "      <td>1.474051</td>\n",
              "      <td>-1.605479</td>\n",
              "      <td>-0.272963</td>\n",
              "    </tr>\n",
              "    <tr>\n",
              "      <th>6</th>\n",
              "      <td>1.239676</td>\n",
              "      <td>1.231052</td>\n",
              "      <td>-0.123617</td>\n",
              "      <td>-0.216583</td>\n",
              "      <td>1.055280</td>\n",
              "      <td>2.577830</td>\n",
              "      <td>-1.146986</td>\n",
              "      <td>-0.462874</td>\n",
              "      <td>2.388290</td>\n",
              "      <td>-0.554168</td>\n",
              "      <td>-0.481184</td>\n",
              "      <td>-0.36326</td>\n",
              "      <td>-0.368422</td>\n",
              "      <td>-0.459229</td>\n",
              "      <td>-0.173997</td>\n",
              "      <td>-0.158636</td>\n",
              "      <td>1.830290</td>\n",
              "      <td>-0.273721</td>\n",
              "      <td>-0.194036</td>\n",
              "      <td>-0.300242</td>\n",
              "      <td>-0.182557</td>\n",
              "      <td>-0.441818</td>\n",
              "      <td>-0.18177</td>\n",
              "      <td>-0.361962</td>\n",
              "      <td>0.870355</td>\n",
              "      <td>-0.678403</td>\n",
              "      <td>-1.605479</td>\n",
              "      <td>-0.272963</td>\n",
              "    </tr>\n",
              "    <tr>\n",
              "      <th>7</th>\n",
              "      <td>1.575448</td>\n",
              "      <td>-0.300320</td>\n",
              "      <td>-0.123617</td>\n",
              "      <td>-0.304948</td>\n",
              "      <td>1.055280</td>\n",
              "      <td>-0.387923</td>\n",
              "      <td>-1.146986</td>\n",
              "      <td>-0.462874</td>\n",
              "      <td>1.895655</td>\n",
              "      <td>-0.554168</td>\n",
              "      <td>-0.481184</td>\n",
              "      <td>-0.36326</td>\n",
              "      <td>-0.368422</td>\n",
              "      <td>-0.459229</td>\n",
              "      <td>-0.173997</td>\n",
              "      <td>-0.158636</td>\n",
              "      <td>-0.546362</td>\n",
              "      <td>3.653361</td>\n",
              "      <td>-0.194036</td>\n",
              "      <td>-0.300242</td>\n",
              "      <td>-0.182557</td>\n",
              "      <td>-0.441818</td>\n",
              "      <td>-0.18177</td>\n",
              "      <td>2.762723</td>\n",
              "      <td>-1.148956</td>\n",
              "      <td>-0.678403</td>\n",
              "      <td>-1.605479</td>\n",
              "      <td>-0.272963</td>\n",
              "    </tr>\n",
              "    <tr>\n",
              "      <th>8</th>\n",
              "      <td>-0.355243</td>\n",
              "      <td>-0.300320</td>\n",
              "      <td>-0.123617</td>\n",
              "      <td>-0.473616</td>\n",
              "      <td>1.055280</td>\n",
              "      <td>-0.387923</td>\n",
              "      <td>-1.146986</td>\n",
              "      <td>-0.462874</td>\n",
              "      <td>0.679912</td>\n",
              "      <td>-0.554168</td>\n",
              "      <td>-0.481184</td>\n",
              "      <td>-0.36326</td>\n",
              "      <td>-0.368422</td>\n",
              "      <td>-0.459229</td>\n",
              "      <td>-0.173997</td>\n",
              "      <td>-0.158636</td>\n",
              "      <td>-0.546362</td>\n",
              "      <td>-0.273721</td>\n",
              "      <td>-0.194036</td>\n",
              "      <td>-0.300242</td>\n",
              "      <td>-0.182557</td>\n",
              "      <td>2.263377</td>\n",
              "      <td>-0.18177</td>\n",
              "      <td>-0.361962</td>\n",
              "      <td>0.870355</td>\n",
              "      <td>-0.678403</td>\n",
              "      <td>-1.605479</td>\n",
              "      <td>-0.272963</td>\n",
              "    </tr>\n",
              "    <tr>\n",
              "      <th>9</th>\n",
              "      <td>-1.110730</td>\n",
              "      <td>-0.300320</td>\n",
              "      <td>-0.123617</td>\n",
              "      <td>1.104237</td>\n",
              "      <td>1.055280</td>\n",
              "      <td>-0.387923</td>\n",
              "      <td>-1.146986</td>\n",
              "      <td>-0.462874</td>\n",
              "      <td>2.664857</td>\n",
              "      <td>0.180598</td>\n",
              "      <td>-0.481184</td>\n",
              "      <td>-0.36326</td>\n",
              "      <td>-0.368422</td>\n",
              "      <td>-0.459229</td>\n",
              "      <td>-0.173997</td>\n",
              "      <td>-0.158636</td>\n",
              "      <td>-0.546362</td>\n",
              "      <td>-0.273721</td>\n",
              "      <td>-0.194036</td>\n",
              "      <td>3.330642</td>\n",
              "      <td>-0.182557</td>\n",
              "      <td>-0.441818</td>\n",
              "      <td>-0.18177</td>\n",
              "      <td>-0.361962</td>\n",
              "      <td>-1.148956</td>\n",
              "      <td>1.474051</td>\n",
              "      <td>-1.605479</td>\n",
              "      <td>-0.272963</td>\n",
              "    </tr>\n",
              "  </tbody>\n",
              "</table>\n",
              "</div>"
            ],
            "text/plain": [
              "        age  education   default  ...    single  cellular  telephone\n",
              "0  1.491505  -0.300320 -0.123617  ... -0.678403 -1.605479  -0.272963\n",
              "1  1.239676  -0.300320 -0.123617  ... -0.678403 -1.605479  -0.272963\n",
              "2 -0.019470  -0.300320 -0.123617  ... -0.678403 -1.605479  -0.272963\n",
              "3  1.155733  -0.300320 -0.123617  ... -0.678403 -1.605479  -0.272963\n",
              "4  1.071790   1.231052 -0.123617  ... -0.678403 -1.605479  -0.272963\n",
              "5  0.064473   1.231052 -0.123617  ...  1.474051 -1.605479  -0.272963\n",
              "6  1.239676   1.231052 -0.123617  ... -0.678403 -1.605479  -0.272963\n",
              "7  1.575448  -0.300320 -0.123617  ... -0.678403 -1.605479  -0.272963\n",
              "8 -0.355243  -0.300320 -0.123617  ... -0.678403 -1.605479  -0.272963\n",
              "9 -1.110730  -0.300320 -0.123617  ...  1.474051 -1.605479  -0.272963\n",
              "\n",
              "[10 rows x 28 columns]"
            ]
          },
          "metadata": {
            "tags": []
          },
          "execution_count": 485
        }
      ]
    },
    {
      "cell_type": "markdown",
      "metadata": {
        "id": "oc4xpTJE4YLA"
      },
      "source": [
        "**Spliting the data to train and test**"
      ]
    },
    {
      "cell_type": "code",
      "metadata": {
        "id": "x1oIUGlk0-pD"
      },
      "source": [
        "from sklearn.model_selection import train_test_split\n",
        "X_train, X_test, y_train, y_test = train_test_split(X, y, train_size=0.75, random_state = 42)"
      ],
      "execution_count": 486,
      "outputs": []
    },
    {
      "cell_type": "markdown",
      "metadata": {
        "id": "SZ3fKGgU4m0m"
      },
      "source": [
        "**Using Algorithms to find Accuracy**"
      ]
    },
    {
      "cell_type": "code",
      "metadata": {
        "id": "u4_fbKa01HNS"
      },
      "source": [
        "from sklearn.linear_model import LogisticRegression\n",
        "from sklearn.neighbors import KNeighborsClassifier\n",
        "from sklearn.ensemble import GradientBoostingClassifier\n",
        "from sklearn.svm import SVC\n",
        "\n",
        "def models(X_train, y_train): \n",
        "\n",
        "  s = SVC()\n",
        "  s.fit(X_train, y_train)\n",
        "\n",
        "  l = LogisticRegression()\n",
        "  l.fit(X_train, y_train)\n",
        "\n",
        "  kn = KNeighborsClassifier(n_neighbors=8)\n",
        "  kn.fit(X_train, y_train)\n",
        "\n",
        "  gb = GradientBoostingClassifier(max_features=2, max_depth=2, random_state=0)\n",
        "  gb.fit(X_train, y_train)\n",
        "\n",
        "\n",
        "  print(\"SVC Accuracy:\", s.score(X_test, y_test))\n",
        "  print(\"Logistic_Regression Accuracy:\", l.score(X_test, y_test))\n",
        "  print(\"KNeighbors_Classifier Accuracy:\", kn.score(X_test, y_test))\n",
        "  print(\"GradientBoosting_Classifier Accuracy:\", gb.score(X_test, y_test))\n",
        "  return s, l, kn, gb"
      ],
      "execution_count": 487,
      "outputs": []
    },
    {
      "cell_type": "code",
      "metadata": {
        "colab": {
          "base_uri": "https://localhost:8080/"
        },
        "id": "Dly4fsy3ydsh",
        "outputId": "528a8e13-44a1-4439-b331-91014834901e"
      },
      "source": [
        "model = models(X_train, y_train)"
      ],
      "execution_count": 488,
      "outputs": [
        {
          "output_type": "stream",
          "text": [
            "SVC Accuracy: 0.8058043711931208\n",
            "Logistic_Regression Accuracy: 0.7936223575779291\n",
            "KNeighbors_Classifier Accuracy: 0.7380867072733788\n",
            "GradientBoosting_Classifier Accuracy: 0.8011465424579004\n"
          ],
          "name": "stdout"
        }
      ]
    },
    {
      "cell_type": "markdown",
      "metadata": {
        "id": "5C-xWKmB409m"
      },
      "source": [
        "**Show the accuracy graph of algorithms, confusion matrix and classification report**"
      ]
    },
    {
      "cell_type": "code",
      "metadata": {
        "colab": {
          "base_uri": "https://localhost:8080/",
          "height": 1000
        },
        "id": "hZvI2DDKC5fc",
        "outputId": "20c7224d-9d62-4f68-9277-068bfe57bb56"
      },
      "source": [
        "from sklearn.metrics import confusion_matrix,classification_report, log_loss\n",
        "from sklearn import metrics\n",
        "\n",
        "for i in range(len(model)):\n",
        "  print('Confusion matrix of model',i, 'is :')\n",
        "  cm = confusion_matrix(y_test,model[i].predict(X_test))\n",
        "  tp = cm[0][0]\n",
        "  tn = cm[1][1]\n",
        "  fp = cm[0][1]\n",
        "  fn = cm[1][0]\n",
        "  print(cm)\n",
        "  print()\n",
        "  r = classification_report(y_test,model[i].predict(X_test))\n",
        "  print(\"classification report: \",)\n",
        "  print(r)\n",
        "  print()\n",
        "  var = ((tp+tn)/(tp+tn+fp+fn))*100\n",
        "  print('Testing Accuracy: ',var)\n",
        "  print('Sensitivity: ',tp/(tp+fn))\n",
        "  print('specificity: ',tn/(tn+fp))\n",
        "  print('false positive: ',fp/(fp+tn))\n",
        "  print('false negative: ',fn/(fn+tp))\n",
        "  print()\n",
        "  \n",
        "  n = ['Logistic Regression', 'KNeighbors Classifier', 'Gradient Boosting Classifier', 'SVC']\n",
        "  col_value = ['#95a5a6', 'Blue', 'purple', '#9b59b6']\n",
        "  model_acc = pd.Series(data=[var], index=[n[i]])\n",
        "  fig = plt.figure(figsize=(5,5))\n",
        "  width = 0.75\n",
        "  model_acc.sort_values().plot.bar(alpha=0.8, color=[col_value[i]])\n",
        "  plt.xticks(rotation=0)\n",
        "  plt.title('Model Accuracy')\n",
        "  plt.ylabel('Accuracy (%)')\n",
        "  plt.show()\n",
        "  print()"
      ],
      "execution_count": 489,
      "outputs": [
        {
          "output_type": "stream",
          "text": [
            "Confusion matrix of model 0 is :\n",
            "[[1176  274]\n",
            " [ 268 1073]]\n",
            "\n",
            "classification report: \n",
            "              precision    recall  f1-score   support\n",
            "\n",
            "           0       0.81      0.81      0.81      1450\n",
            "           1       0.80      0.80      0.80      1341\n",
            "\n",
            "    accuracy                           0.81      2791\n",
            "   macro avg       0.81      0.81      0.81      2791\n",
            "weighted avg       0.81      0.81      0.81      2791\n",
            "\n",
            "\n",
            "Testing Accuracy:  80.58043711931208\n",
            "Sensitivity:  0.814404432132964\n",
            "specificity:  0.7965850037119525\n",
            "false positive:  0.20341499628804752\n",
            "false negative:  0.18559556786703602\n",
            "\n"
          ],
          "name": "stdout"
        },
        {
          "output_type": "display_data",
          "data": {
            "image/png": "[encoded data removed]",
            "text/plain": [
              "<Figure size 360x360 with 1 Axes>"
            ]
          },
          "metadata": {
            "tags": [],
            "needs_background": "light"
          }
        },
        {
          "output_type": "stream",
          "text": [
            "\n",
            "Confusion matrix of model 1 is :\n",
            "[[1195  255]\n",
            " [ 321 1020]]\n",
            "\n",
            "classification report: \n",
            "              precision    recall  f1-score   support\n",
            "\n",
            "           0       0.79      0.82      0.81      1450\n",
            "           1       0.80      0.76      0.78      1341\n",
            "\n",
            "    accuracy                           0.79      2791\n",
            "   macro avg       0.79      0.79      0.79      2791\n",
            "weighted avg       0.79      0.79      0.79      2791\n",
            "\n",
            "\n",
            "Testing Accuracy:  79.36223575779292\n",
            "Sensitivity:  0.7882585751978892\n",
            "specificity:  0.8\n",
            "false positive:  0.2\n",
            "false negative:  0.2117414248021108\n",
            "\n"
          ],
          "name": "stdout"
        },
        {
          "output_type": "display_data",
          "data": {
            "image/png": "[encoded data removed]",
            "text/plain": [
              "<Figure size 360x360 with 1 Axes>"
            ]
          },
          "metadata": {
            "tags": [],
            "needs_background": "light"
          }
        },
        {
          "output_type": "stream",
          "text": [
            "\n",
            "Confusion matrix of model 2 is :\n",
            "[[1242  208]\n",
            " [ 523  818]]\n",
            "\n",
            "classification report: \n",
            "              precision    recall  f1-score   support\n",
            "\n",
            "           0       0.70      0.86      0.77      1450\n",
            "           1       0.80      0.61      0.69      1341\n",
            "\n",
            "    accuracy                           0.74      2791\n",
            "   macro avg       0.75      0.73      0.73      2791\n",
            "weighted avg       0.75      0.74      0.73      2791\n",
            "\n",
            "\n",
            "Testing Accuracy:  73.80867072733788\n",
            "Sensitivity:  0.7036827195467422\n",
            "specificity:  0.797270955165692\n",
            "false positive:  0.20272904483430798\n",
            "false negative:  0.2963172804532578\n",
            "\n"
          ],
          "name": "stdout"
        },
        {
          "output_type": "display_data",
          "data": {
            "image/png": "[encoded data removed]",
            "text/plain": [
              "<Figure size 360x360 with 1 Axes>"
            ]
          },
          "metadata": {
            "tags": [],
            "needs_background": "light"
          }
        },
        {
          "output_type": "stream",
          "text": [
            "\n",
            "Confusion matrix of model 3 is :\n",
            "[[1170  280]\n",
            " [ 275 1066]]\n",
            "\n",
            "classification report: \n",
            "              precision    recall  f1-score   support\n",
            "\n",
            "           0       0.81      0.81      0.81      1450\n",
            "           1       0.79      0.79      0.79      1341\n",
            "\n",
            "    accuracy                           0.80      2791\n",
            "   macro avg       0.80      0.80      0.80      2791\n",
            "weighted avg       0.80      0.80      0.80      2791\n",
            "\n",
            "\n",
            "Testing Accuracy:  80.11465424579004\n",
            "Sensitivity:  0.8096885813148789\n",
            "specificity:  0.7919762258543833\n",
            "false positive:  0.20802377414561665\n",
            "false negative:  0.1903114186851211\n",
            "\n"
          ],
          "name": "stdout"
        },
        {
          "output_type": "display_data",
          "data": {
            "image/png": "[encoded data removed]",
            "text/plain": [
              "<Figure size 360x360 with 1 Axes>"
            ]
          },
          "metadata": {
            "tags": [],
            "needs_background": "light"
          }
        },
        {
          "output_type": "stream",
          "text": [
            "\n"
          ],
          "name": "stdout"
        }
      ]
    }
  ]
}